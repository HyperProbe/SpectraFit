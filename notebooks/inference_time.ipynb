{
 "cells": [
  {
   "cell_type": "code",
   "execution_count": 1,
   "outputs": [],
   "source": [
    "import os\n",
    "import time\n",
    "\n",
    "import matplotlib.pyplot as plt\n",
    "import numpy as np\n",
    "import scipy\n",
    "import torch\n",
    "from torch.utils.data import DataLoader, ConcatDataset\n",
    "\n",
    "os.chdir('..')\n",
    "from data_processing.datasets import PigletDataset\n",
    "from neuralnet.model import SpectraMLP\n",
    "from utils import beerlamb_multi, beerlamb_multi_batch\n",
    "import data_processing.preprocessing as preprocessing\n",
    "from config import left_cut, right_cut\n",
    "\n",
    "device = torch.device(\"cuda:0\" if torch.cuda.is_available() else \"cpu\")"
   ],
   "metadata": {
    "collapsed": false,
    "pycharm": {
     "name": "#%%\n"
    }
   }
  },
  {
   "cell_type": "code",
   "execution_count": 2,
   "outputs": [],
   "source": [
    "path_to_data = \"dataset/piglet_diffs/\"\n",
    "spectra_dataset = PigletDataset(path_to_data)\n",
    "n = 15\n",
    "spectra_datasets = ConcatDataset(n * [spectra_dataset])\n",
    "dl = DataLoader(spectra_datasets, batch_size=n*7830, shuffle=False)\n",
    "inputs, targets = next(iter(dl))"
   ],
   "metadata": {
    "collapsed": false,
    "pycharm": {
     "name": "#%%\n"
    }
   }
  },
  {
   "cell_type": "code",
   "execution_count": 3,
   "outputs": [],
   "source": [
    "img = scipy.io.loadmat('dataset/LWP483_10Jan2017_SharedHyperProbe.mat')\n",
    "wavelengths = img['wavelengths'].astype(float)\n",
    "idx = (wavelengths >= left_cut) & (wavelengths <= right_cut)\n",
    "wavelengths = wavelengths[idx]\n",
    "\n",
    "molecules, x = preprocessing.read_molecules(left_cut, right_cut, wavelengths)\n",
    "molecules = molecules[:4]"
   ],
   "metadata": {
    "collapsed": false,
    "pycharm": {
     "name": "#%%\n"
    }
   }
  },
  {
   "cell_type": "code",
   "execution_count": 4,
   "outputs": [],
   "source": [
    "def test(targets):\n",
    "    start = time.time()\n",
    "    preds = model(inputs.to(device).float()).cpu()\n",
    "    duration = time.time() - start\n",
    "    \n",
    "    preds = torch.swapaxes(preds, 0, 1).detach()\n",
    "    targets = torch.swapaxes(targets, 0, 1).detach()\n",
    "        \n",
    "    err = 0\n",
    "    spec1 = np.asarray(np.log(beerlamb_multi_batch(molecules, x, preds, left_cut)))\n",
    "    spec2 = np.asarray(np.log(beerlamb_multi_batch(molecules, x, targets, left_cut)))\n",
    "    err += np.mean(np.abs(spec1 - spec2))\n",
    "    return duration, err"
   ],
   "metadata": {
    "collapsed": false,
    "pycharm": {
     "name": "#%%\n"
    }
   }
  },
  {
   "cell_type": "code",
   "execution_count": 7,
   "outputs": [
    {
     "name": "stderr",
     "output_type": "stream",
     "text": [
      "/Users/ivaniliash/Documents/TUM/SS23/IDP/idp-beerinverse/venv/lib/python3.10/site-packages/torch/nn/modules/lazy.py:180: UserWarning: Lazy modules are a new feature under heavy development so changes to the API or functionality can happen at any moment.\n",
      "  warnings.warn('Lazy modules are a new feature under heavy development '\n"
     ]
    }
   ],
   "source": [
    "import pandas as pd\n",
    "\n",
    "results_list = []\n",
    "folders = os.listdir(\"results\")\n",
    "\n",
    "for folder in folders:\n",
    "    layer, size = folder.split(\"_\")\n",
    "\n",
    "    model = SpectraMLP(4, n_layers=int(layer), layer_width=int(size))\n",
    "    checkpoints = torch.load('results/{}/best_model.pth'.format(folder))\n",
    "    model.load_state_dict(checkpoints)\n",
    "    model.to(device)\n",
    "    model.eval()\n",
    "\n",
    "    duration, error = test(targets)\n",
    "\n",
    "    results_dict = {\n",
    "        'Folder': folder,\n",
    "        'N Params': sum(p.numel() for p in model.parameters()),\n",
    "        'Duration': round(duration, 4),\n",
    "        'Error': round(error, 4)}\n",
    "    results_list.append(results_dict)\n",
    "\n",
    "df = pd.DataFrame(results_list)\n",
    "df.to_csv('result/results_summary.csv', index=False)"
   ],
   "metadata": {
    "collapsed": false,
    "pycharm": {
     "name": "#%%\n"
    }
   }
  },
  {
   "cell_type": "code",
   "execution_count": 10,
   "outputs": [
    {
     "data": {
      "text/plain": "    Folder  N Params  Duration   Error\n4    1_256     56068    0.0424  0.1273\n7    3_256    187652    0.1175  0.1479\n6    4_128     77572    0.0736  0.1491\n12  2_1024   1273860    0.4069  0.1591\n15  4_1024   3373060    1.7364  0.1771\n1    4_256    253444    0.2009  0.1823\n0    1_128     28036    0.0747  0.1881\n2    3_128     61060    0.0597  0.1893\n5    2_256    121860    0.0729  0.2039\n3    2_128     44548    0.0388  0.2111\n14   4_512    900100    0.3374  0.2123\n13  3_1024   2323460    1.4506  0.2410\n10   3_512    637444    0.3263  0.2609\n8   1_1024    224260    0.1885  0.3376\n9    1_512    112132    0.0883  0.3472\n11   2_512    374788    0.1692  0.3519",
      "text/html": "<div>\n<style scoped>\n    .dataframe tbody tr th:only-of-type {\n        vertical-align: middle;\n    }\n\n    .dataframe tbody tr th {\n        vertical-align: top;\n    }\n\n    .dataframe thead th {\n        text-align: right;\n    }\n</style>\n<table border=\"1\" class=\"dataframe\">\n  <thead>\n    <tr style=\"text-align: right;\">\n      <th></th>\n      <th>Folder</th>\n      <th>N Params</th>\n      <th>Duration</th>\n      <th>Error</th>\n    </tr>\n  </thead>\n  <tbody>\n    <tr>\n      <th>4</th>\n      <td>1_256</td>\n      <td>56068</td>\n      <td>0.0424</td>\n      <td>0.1273</td>\n    </tr>\n    <tr>\n      <th>7</th>\n      <td>3_256</td>\n      <td>187652</td>\n      <td>0.1175</td>\n      <td>0.1479</td>\n    </tr>\n    <tr>\n      <th>6</th>\n      <td>4_128</td>\n      <td>77572</td>\n      <td>0.0736</td>\n      <td>0.1491</td>\n    </tr>\n    <tr>\n      <th>12</th>\n      <td>2_1024</td>\n      <td>1273860</td>\n      <td>0.4069</td>\n      <td>0.1591</td>\n    </tr>\n    <tr>\n      <th>15</th>\n      <td>4_1024</td>\n      <td>3373060</td>\n      <td>1.7364</td>\n      <td>0.1771</td>\n    </tr>\n    <tr>\n      <th>1</th>\n      <td>4_256</td>\n      <td>253444</td>\n      <td>0.2009</td>\n      <td>0.1823</td>\n    </tr>\n    <tr>\n      <th>0</th>\n      <td>1_128</td>\n      <td>28036</td>\n      <td>0.0747</td>\n      <td>0.1881</td>\n    </tr>\n    <tr>\n      <th>2</th>\n      <td>3_128</td>\n      <td>61060</td>\n      <td>0.0597</td>\n      <td>0.1893</td>\n    </tr>\n    <tr>\n      <th>5</th>\n      <td>2_256</td>\n      <td>121860</td>\n      <td>0.0729</td>\n      <td>0.2039</td>\n    </tr>\n    <tr>\n      <th>3</th>\n      <td>2_128</td>\n      <td>44548</td>\n      <td>0.0388</td>\n      <td>0.2111</td>\n    </tr>\n    <tr>\n      <th>14</th>\n      <td>4_512</td>\n      <td>900100</td>\n      <td>0.3374</td>\n      <td>0.2123</td>\n    </tr>\n    <tr>\n      <th>13</th>\n      <td>3_1024</td>\n      <td>2323460</td>\n      <td>1.4506</td>\n      <td>0.2410</td>\n    </tr>\n    <tr>\n      <th>10</th>\n      <td>3_512</td>\n      <td>637444</td>\n      <td>0.3263</td>\n      <td>0.2609</td>\n    </tr>\n    <tr>\n      <th>8</th>\n      <td>1_1024</td>\n      <td>224260</td>\n      <td>0.1885</td>\n      <td>0.3376</td>\n    </tr>\n    <tr>\n      <th>9</th>\n      <td>1_512</td>\n      <td>112132</td>\n      <td>0.0883</td>\n      <td>0.3472</td>\n    </tr>\n    <tr>\n      <th>11</th>\n      <td>2_512</td>\n      <td>374788</td>\n      <td>0.1692</td>\n      <td>0.3519</td>\n    </tr>\n  </tbody>\n</table>\n</div>"
     },
     "execution_count": 10,
     "metadata": {},
     "output_type": "execute_result"
    }
   ],
   "source": [
    "df.sort_values(by='Error')"
   ],
   "metadata": {
    "collapsed": false,
    "pycharm": {
     "name": "#%%\n"
    }
   }
  },
  {
   "cell_type": "code",
   "execution_count": null,
   "outputs": [],
   "source": [],
   "metadata": {
    "collapsed": false,
    "pycharm": {
     "name": "#%%\n"
    }
   }
  }
 ],
 "metadata": {
  "kernelspec": {
   "display_name": "Python 3",
   "language": "python",
   "name": "python3"
  },
  "language_info": {
   "codemirror_mode": {
    "name": "ipython",
    "version": 3
   },
   "file_extension": ".py",
   "mimetype": "text/x-python",
   "name": "python",
   "nbconvert_exporter": "python",
   "pygments_lexer": "ipython3",
   "version": "3.9.15"
  }
 },
 "nbformat": 4,
 "nbformat_minor": 0
}