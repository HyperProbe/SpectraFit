{
 "cells": [
  {
   "cell_type": "code",
   "execution_count": 1,
   "metadata": {
    "collapsed": false,
    "pycharm": {
     "name": "#%%\n"
    }
   },
   "outputs": [],
   "source": [
    "import os\n",
    "import torch\n",
    "import scipy.io\n",
    "import matplotlib.pyplot as plt\n",
    "import cvxpy as cp\n",
    "import seaborn as sns\n",
    "import numpy as np\n",
    "\n",
    "os.chdir('..')\n",
    "import data_processing.preprocessing as preprocessing\n",
    "from config import left_cut, right_cut\n",
    "from utils import beerlamb_multi\n",
    "\n",
    "sns.set()"
   ]
  },
  {
   "cell_type": "code",
   "execution_count": null,
   "metadata": {
    "collapsed": false,
    "pycharm": {
     "name": "#%%\n"
    }
   },
   "outputs": [],
   "source": [
    "img = scipy.io.loadmat('dataset/LWP483_10Jan2017_SharedHyperProbe.mat')\n",
    "\n",
    "### Visualising spectrograms with calibration\n",
    "intensity1_c = []\n",
    "intensity2_c = []\n",
    "\n",
    "wavelengths = img['wavelengths'].astype(float)\n",
    "white_full = img['refSpectrum'].astype(float)\n",
    "dark_full = img['DarkCount'].astype(float)\n",
    "spectr = img['spectralDatameasured'].astype(float)\n",
    "\n",
    "idx = (wavelengths >= left_cut) & (wavelengths <= right_cut)\n",
    "wavelengths = wavelengths[idx]\n",
    "spectr = spectr[idx.squeeze()]\n",
    "dark_full = dark_full[idx.squeeze()]\n",
    "white_full = white_full[idx.squeeze()]\n",
    "\n",
    "# We wanna calibrate our HSI images w.r.t. white reference. Why? Because we saw by looking at the raw data that different\n",
    "# wavelengths have different reflection from the white materila (i.e. reflecting 99% of light). So\n",
    "# we calibrate our HSI images\n",
    "print(white_full.shape, dark_full.shape, wavelengths.shape, spectr.shape)\n",
    "\n",
    "fig, (ax, ax1, ax2) = plt.subplots(ncols=3, figsize=(12, 4))\n",
    "\n",
    "spectr_1 = (spectr[:, 0] - dark_full[:, 0]) / (white_full[:, 0] - dark_full[:, 0])\n",
    "ax.plot(wavelengths, spectr_1)\n",
    "#ax.plot(wavelengths, spectr)\n",
    "ax.set_xlabel(\"Wavelength\", fontsize=15)\n",
    "ax.set_title(\"Base Spectrogram\", fontsize=15)\n",
    "ax2.set_xlim(left_cut, right_cut)\n",
    "ax.set_ylim(-0.01, 0.3)\n",
    "\n",
    "i = 100  #7830\n",
    "spectr_2 = (spectr[:, i] - dark_full[:, 0]) / (white_full[:, 0] - dark_full[:, 0])\n",
    "ax1.plot(wavelengths, spectr_2)\n",
    "ax1.set_xlabel(\"Wavelength\", fontsize=15)\n",
    "#ax1.plot(wavelengths, spectr[:,100])\n",
    "#ax.set_xlabel(\"Wavelength\", fontsize=20)\n",
    "ax1.set_title(\"Hypoxia Spectrogram\", fontsize=15)\n",
    "ax2.set_xlim(left_cut, right_cut)\n",
    "ax1.set_ylim(-0.01, 0.3)\n",
    "\n",
    "spectr_1[spectr_1 <= 0] = 0.0001\n",
    "spectr_2[spectr_2 <= 0] = 0.0001\n",
    "spectr_3 = spectr_2 / spectr_1\n",
    "ax2.plot(wavelengths, spectr_3)\n",
    "ax2.axhline(y=0.0, color='r', linestyle='-')\n",
    "ax2.set_xlabel(\"Wavelength\", fontsize=15)\n",
    "ax2.set_title(\"Diff Spectrogram\", fontsize=15)\n",
    "ax2.set_xlim(left_cut, right_cut)\n",
    "#ax2.set_ylim(-0.3, 0.3)"
   ]
  },
  {
   "cell_type": "code",
   "execution_count": null,
   "metadata": {
    "collapsed": false,
    "pycharm": {
     "name": "#%%\n"
    }
   },
   "outputs": [],
   "source": [
    "def optimisation(spectr1, spectr2):\n",
    "    m = 4  # number of parameters (from 2 to 6)\n",
    "    #np.random.seed(1)\n",
    "    molecules, x = preprocessing.read_molecules(left_cut, right_cut, wavelengths)\n",
    "    y_hbo2_f, y_hb_f, y_coxa, y_creda, _, _ = molecules\n",
    "    M = np.transpose(np.vstack((np.asarray(y_hbo2_f),\n",
    "                                np.asarray(y_hb_f),\n",
    "                                np.asarray(y_coxa),\n",
    "                                np.asarray(y_creda))))\n",
    "    \n",
    "    b = spectr2 / spectr1\n",
    "    b = np.log(1 / np.asarray(b))  # see the writting above (we took log of I_R and there was also minus that went to the degree of the logarithm)\n",
    "    X = cp.Variable((m, len(b)))\n",
    "    b = np.swapaxes(b, 0, 1)\n",
    "    \n",
    "    print(M.shape, X.shape, b.shape)\n",
    "     \n",
    "    objective = cp.Minimize(cp.sum_squares(M @ X - b))\n",
    "    constraints = [cp.abs(X[2]+X[3])<=0.01]\n",
    "    prob = cp.Problem(objective, constraints)\n",
    "    result = prob.solve()\n",
    "\n",
    "    for i in range(len(b[0])):        \n",
    "        if i % 1000 == 0:\n",
    "            fig, (ax) = plt.subplots(ncols=1, figsize=(12, 4))\n",
    "            fig.suptitle(\"Diff to timestep \" + str(i), fontsize=16, y=1.05)\n",
    "            Xi = -X[:,i]\n",
    "            bi = b[:,i]\n",
    "\n",
    "            err = np.asarray(np.log(beerlamb_multi(molecules, x, Xi.value, left_cut))) - bi\n",
    "            err = np.mean(np.abs(err))\n",
    "            ax.plot(x, np.log(beerlamb_multi(molecules, x, Xi.value, left_cut)), color='b', label='Predicted')\n",
    "            ax.plot(x, bi, color='r', label='Real')\n",
    "            ax.set_xlabel(str(np.around(Xi.value,decimals=4)), fontsize=12)\n",
    "            ax.set_title(\"base\", fontsize=12)\n",
    "            ax.set_xlim(left_cut, right_cut)\n",
    "            ax.annotate(\"Error: \" + str(np.round(err, 4)),\n",
    "                        xy=(0.6, 0.7),  # Coordinates for the annotation arrow point\n",
    "                        xycoords='axes fraction')\n",
    "            ax.legend()            \n",
    "            fig.show()\n",
    "\n",
    "    return -X.value, b"
   ]
  },
  {
   "cell_type": "code",
   "execution_count": null,
   "metadata": {
    "collapsed": false,
    "pycharm": {
     "name": "#%%\n"
    }
   },
   "outputs": [],
   "source": [
    "cut = 7830\n",
    "\n",
    "ref_spectr = (spectr[:, 0] - dark_full[:, 0]) / (white_full[:, 0] - dark_full[:, 0])\n",
    "ref_spectr[ref_spectr <= 0] = 0.0001\n",
    "\n",
    "spectra_list = []\n",
    "coef_list = []\n",
    "\n",
    "#if i not in [100,200,400,2000]: continue\n",
    "comp_spectr = np.array([(spectr[:, i] - dark_full[:, 0]) / (white_full[:, 0] - dark_full[:, 0]) for i in range(1,cut+1)])\n",
    "comp_spectr[comp_spectr <= 0] = 0.0001\n",
    "\n",
    "coef_diff, spect_diff = optimisation(ref_spectr, comp_spectr)\n",
    "\n",
    "spectra_list.append(spect_diff)\n",
    "coef_list.append(coef_diff)"
   ]
  },
  {
   "cell_type": "code",
   "execution_count": null,
   "metadata": {
    "collapsed": false,
    "pycharm": {
     "name": "#%%\n"
    }
   },
   "outputs": [],
   "source": [
    "utils.save_data(ref_spectr, spectra_list, coef_list)"
   ]
  }
 ],
 "metadata": {
  "kernelspec": {
   "display_name": "Python 3",
   "language": "python",
   "name": "python3"
  },
  "language_info": {
   "codemirror_mode": {
    "name": "ipython",
    "version": 3
   },
   "file_extension": ".py",
   "mimetype": "text/x-python",
   "name": "python",
   "nbconvert_exporter": "python",
   "pygments_lexer": "ipython3",
   "version": "3.9.15"
  }
 },
 "nbformat": 4,
 "nbformat_minor": 0
}