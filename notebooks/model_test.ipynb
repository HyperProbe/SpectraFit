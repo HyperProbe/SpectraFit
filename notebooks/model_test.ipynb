{
 "cells": [
  {
   "cell_type": "code",
   "execution_count": null,
   "outputs": [],
   "source": [
    "import os\n",
    "\n",
    "import matplotlib.pyplot as plt\n",
    "import numpy as np\n",
    "import scipy\n",
    "import torch\n",
    "from torch.utils.data import DataLoader\n",
    "\n",
    "os.chdir('..')\n",
    "from data_processing.datasets import PigletDataset\n",
    "from neuralnet.model import SpectraMLP\n",
    "from utils import beerlamb_multi\n",
    "import data_processing.preprocessing as preprocessing\n",
    "from config import left_cut, right_cut\n",
    "from torch.utils.data import ConcatDataset\n",
    "from utils import beerlamb_multi_batch\n",
    "\n",
    "device = torch.device(\"cuda:0\" if torch.cuda.is_available() else \"cpu\")"
   ],
   "metadata": {
    "collapsed": false,
    "pycharm": {
     "name": "#%%\n"
    }
   }
  },
  {
   "cell_type": "code",
   "execution_count": null,
   "outputs": [],
   "source": [
    "path_to_data = \"dataset/piglet_diffs/\"\n",
    "spectra_dataset = PigletDataset(path_to_data)\n",
    "n = 15\n",
    "spectra_datasets = ConcatDataset(n * [spectra_dataset])\n",
    "dl = DataLoader(spectra_datasets, batch_size=n*7830, shuffle=False)\n",
    "inputs, targets = next(iter(dl))\n",
    "\n",
    "model = SpectraMLP(4)\n",
    "checkpoints = torch.load('model_checkpoints/best_model.pth')\n",
    "model.load_state_dict(checkpoints.state_dict())\n",
    "model.to(device)\n",
    "model.eval()"
   ],
   "metadata": {
    "collapsed": false,
    "pycharm": {
     "name": "#%%\n"
    }
   }
  },
  {
   "cell_type": "code",
   "execution_count": null,
   "outputs": [],
   "source": [
    "img = scipy.io.loadmat('dataset/LWP483_10Jan2017_SharedHyperProbe.mat')\n",
    "wavelengths = img['wavelengths'].astype(float)\n",
    "idx = (wavelengths >= left_cut) & (wavelengths <= right_cut)\n",
    "wavelengths = wavelengths[idx]\n",
    "\n",
    "molecules, x = preprocessing.read_molecules(left_cut, right_cut, wavelengths)"
   ],
   "metadata": {
    "collapsed": false,
    "pycharm": {
     "name": "#%%\n"
    }
   }
  },
  {
   "cell_type": "code",
   "execution_count": null,
   "outputs": [],
   "source": [
    "%%time\n",
    "\n",
    "preds = model(inputs.float()).detach().numpy()\n",
    "print(preds.shape)\n",
    "#beerlamb_multi_batch(molecules, x, preds, left_cut).shape"
   ],
   "metadata": {
    "collapsed": false,
    "pycharm": {
     "name": "#%%\n"
    }
   }
  },
  {
   "cell_type": "code",
   "execution_count": null,
   "outputs": [],
   "source": [
    "for i in range(len(preds)):\n",
    "    if i % 1000 == 0:\n",
    "        a = np.asarray(np.log(beerlamb_multi(molecules, x, preds[i], left_cut)))\n",
    "        b = np.asarray(np.log(beerlamb_multi(molecules, x, targets[i], left_cut)))\n",
    "        err = np.mean(np.abs(a - b))\n",
    "        print(np.around(err, 4), preds[i], targets[i])\n",
    "\n",
    "        plt.plot(x, np.log(beerlamb_multi(molecules, x, preds[i], left_cut)), color='b', label='Predicted')\n",
    "        plt.plot(x, np.log(beerlamb_multi(molecules, x, targets[i], left_cut)), color='r', label='Real')\n",
    "        plt.legend()\n",
    "        plt.show()"
   ],
   "metadata": {
    "collapsed": false,
    "pycharm": {
     "name": "#%%\n"
    }
   }
  },
  {
   "cell_type": "code",
   "execution_count": null,
   "outputs": [],
   "source": [],
   "metadata": {
    "collapsed": false,
    "pycharm": {
     "name": "#%%\n"
    }
   }
  }
 ],
 "metadata": {
  "kernelspec": {
   "display_name": "Python 3",
   "language": "python",
   "name": "python3"
  },
  "language_info": {
   "codemirror_mode": {
    "name": "ipython",
    "version": 3
   },
   "file_extension": ".py",
   "mimetype": "text/x-python",
   "name": "python",
   "nbconvert_exporter": "python",
   "pygments_lexer": "ipython3",
   "version": "3.9.15"
  }
 },
 "nbformat": 4,
 "nbformat_minor": 0
}